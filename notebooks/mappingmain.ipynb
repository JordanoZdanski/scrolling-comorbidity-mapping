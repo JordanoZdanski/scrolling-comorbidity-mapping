{
  "nbformat": 4,
  "nbformat_minor": 0,
  "metadata": {
    "colab": {
      "provenance": [],
      "authorship_tag": "ABX9TyOxPnNvrcav2xxLNfLk3BE0",
      "include_colab_link": true
    },
    "kernelspec": {
      "name": "python3",
      "display_name": "Python 3"
    },
    "language_info": {
      "name": "python"
    }
  },
  "cells": [
    {
      "cell_type": "markdown",
      "metadata": {
        "id": "view-in-github",
        "colab_type": "text"
      },
      "source": [
        "<a href=\"https://colab.research.google.com/github/JordanoZdanski/scrolling-comorbidity-mapping/blob/main/notebooks/mappingmain.ipynb\" target=\"_parent\"><img src=\"https://colab.research.google.com/assets/colab-badge.svg\" alt=\"Open In Colab\"/></a>"
      ]
    },
    {
      "cell_type": "code",
      "execution_count": null,
      "metadata": {
        "id": "VAZPNOmVOpqw"
      },
      "outputs": [],
      "source": [
        "!pip install -r https://raw.githubusercontent.com/JordanoZdanski/scrolling-comorbidity-mapping/main/requirements.txt\n"
      ]
    },
    {
      "cell_type": "code",
      "source": [],
      "metadata": {
        "id": "6qAjvsxUPXYp"
      },
      "execution_count": null,
      "outputs": []
    }
  ]
}